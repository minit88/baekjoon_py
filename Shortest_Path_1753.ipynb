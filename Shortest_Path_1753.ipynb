{
  "nbformat": 4,
  "nbformat_minor": 0,
  "metadata": {
    "colab": {
      "name": "Shortest_Path_1753.ipynb",
      "provenance": [],
      "authorship_tag": "ABX9TyP9aIB1rd0qxh7DM9X4Phc2",
      "include_colab_link": true
    },
    "kernelspec": {
      "name": "python3",
      "display_name": "Python 3"
    },
    "language_info": {
      "name": "python"
    }
  },
  "cells": [
    {
      "cell_type": "markdown",
      "metadata": {
        "id": "view-in-github",
        "colab_type": "text"
      },
      "source": [
        "<a href=\"https://colab.research.google.com/github/minit88/baekjoon_py/blob/main/Shortest_Path_1753.ipynb\" target=\"_parent\"><img src=\"https://colab.research.google.com/assets/colab-badge.svg\" alt=\"Open In Colab\"/></a>"
      ]
    },
    {
      "cell_type": "code",
      "execution_count": 4,
      "metadata": {
        "colab": {
          "base_uri": "https://localhost:8080/"
        },
        "id": "HuvF8977C2R3",
        "outputId": "4fbfe22b-84c1-469d-9f91-d0a44c0d07fa"
      },
      "outputs": [
        {
          "output_type": "stream",
          "name": "stdout",
          "text": [
            "5 6\n",
            "1\n",
            "5 1 1\n",
            "1 2 2\n",
            "1 3 3\n",
            "2 3 4\n",
            "2 4 5\n",
            "3 4 6\n",
            "0\n",
            "2\n",
            "3\n",
            "7\n",
            "INF\n"
          ]
        }
      ],
      "source": [
        "# 다익스트라\n",
        "# 백준 1753\n",
        "\n",
        "import heapq\n",
        "\n",
        "n,m = map(int,input().split())\n",
        "start = int(input())\n",
        "\n",
        "# 간선 정보를 받음\n",
        "data = [[]*(n+1) for _ in range(n+1)]\n",
        "for i in range(m):\n",
        "  a,b,c = map(int,input().split())\n",
        "  data[a].append((b,c)) # 연결된 노드, 거리 저장\n",
        "\n",
        "# 거리 정보 저장\n",
        "distance = [int(1e9)]*(n+1)\n",
        "\n",
        "def dijkstra(start):\n",
        "  distance[start]=0\n",
        "  q=[]\n",
        "  heapq.heappush(q,(0,start))\n",
        "\n",
        "  while q:\n",
        "    dist,now =heapq.heappop(q)\n",
        "    if distance[now]<dist :\n",
        "      continue\n",
        "    for i in data[now]:\n",
        "      if distance[i[0]] > dist + i[1] : # 최소 거리일 경우에 갱신\n",
        "        distance[i[0]] = dist + i[1]\n",
        "        heapq.heappush(q,(dist+i[1],i[1]))\n",
        "\n",
        "# 다익스트라 실행\n",
        "dijkstra(start)\n",
        "\n",
        "for i in range(1,n+1):\n",
        "  if distance[i] >=int(1e9) :\n",
        "    print('INF')\n",
        "  else:\n",
        "    print(distance[i])\n",
        "\n",
        "      \n"
      ]
    }
  ]
}