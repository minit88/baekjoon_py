{
  "nbformat": 4,
  "nbformat_minor": 0,
  "metadata": {
    "colab": {
      "name": "DP_9465.ipynb",
      "provenance": [],
      "authorship_tag": "ABX9TyPKUiypxDQTO9KqRuz1rfSK",
      "include_colab_link": true
    },
    "kernelspec": {
      "name": "python3",
      "display_name": "Python 3"
    },
    "language_info": {
      "name": "python"
    }
  },
  "cells": [
    {
      "cell_type": "markdown",
      "metadata": {
        "id": "view-in-github",
        "colab_type": "text"
      },
      "source": [
        "<a href=\"https://colab.research.google.com/github/minit88/baekjoon_py/blob/main/DP/DP_9465.ipynb\" target=\"_parent\"><img src=\"https://colab.research.google.com/assets/colab-badge.svg\" alt=\"Open In Colab\"/></a>"
      ]
    },
    {
      "cell_type": "code",
      "execution_count": 7,
      "metadata": {
        "colab": {
          "base_uri": "https://localhost:8080/"
        },
        "id": "esZouUEnh3ka",
        "outputId": "b85e9265-9eda-4d14-bea4-eeb850d36b96"
      },
      "outputs": [
        {
          "output_type": "stream",
          "name": "stdout",
          "text": [
            "2\n",
            "5\n",
            "50 10 100 20 40\n",
            "30 50 70 10 60\n",
            "260\n",
            "7\n",
            "10 30 10 50 100 20 40\n",
            "20 40 30 50 60 20 80\n",
            "290\n"
          ]
        }
      ],
      "source": [
        "# BOJ 9465\n",
        "\n",
        "for tc in range(int(input())):\n",
        "  n=int(input())\n",
        "\n",
        "  data=[[0],[0]]\n",
        "  for i in range(2):\n",
        "    data[i]+=list(map(int,input().split()))\n",
        "\n",
        "  result=[0]\n",
        "  \n",
        "  now =1  # 초기 방향은 대각선 밑\n",
        "  for j in range(2,n+1):\n",
        "        data[0][j]+=max(data[1][j-1],data[1][j-2])\n",
        "        data[1][j]+=max(data[0][j-1],data[0][j-2])\n",
        "\n",
        "  print(max(data[0][n],data[1][n]))\n",
        "\n",
        "    \n",
        "\n",
        "      \n",
        "\n",
        "    \n"
      ]
    }
  ]
}