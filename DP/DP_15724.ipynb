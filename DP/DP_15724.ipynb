{
  "nbformat": 4,
  "nbformat_minor": 0,
  "metadata": {
    "colab": {
      "name": "DP_15724.ipynb",
      "provenance": [],
      "authorship_tag": "ABX9TyMfIoBDxEgi2wPOdSIbn+aF",
      "include_colab_link": true
    },
    "kernelspec": {
      "name": "python3",
      "display_name": "Python 3"
    },
    "language_info": {
      "name": "python"
    }
  },
  "cells": [
    {
      "cell_type": "markdown",
      "metadata": {
        "id": "view-in-github",
        "colab_type": "text"
      },
      "source": [
        "<a href=\"https://colab.research.google.com/github/minit88/baekjoon_py/blob/main/DP/DP_15724.ipynb\" target=\"_parent\"><img src=\"https://colab.research.google.com/assets/colab-badge.svg\" alt=\"Open In Colab\"/></a>"
      ]
    },
    {
      "cell_type": "code",
      "execution_count": 7,
      "metadata": {
        "colab": {
          "base_uri": "https://localhost:8080/"
        },
        "id": "_gR6QaUKH9nZ",
        "outputId": "9063ccfa-849a-49e3-c647-4828a1ffac16"
      },
      "outputs": [
        {
          "output_type": "stream",
          "name": "stdout",
          "text": [
            "4 4\n",
            "9 14 29 7\n",
            "1 31 6 13\n",
            "21 26 40 16\n",
            "8 38 11 23\n",
            "3\n",
            "1 1 3 2\n",
            "1 1 1 4\n",
            "1 1 4 4\n",
            "102\n",
            "59\n",
            "293\n"
          ]
        }
      ],
      "source": [
        "# tc별로 각각의 시간 복잡도를 이용이 아닌 모든 tc의 시간복잡도를 이용해야함\n",
        "# ->시간초과\n",
        "\n",
        "from collections import deque\n",
        "\n",
        "n,m = map(int,input().split())\n",
        "dx = [0,1]\n",
        "dy = [1,0]\n",
        "\n",
        "data = []\n",
        "final_result=[]\n",
        "\n",
        "for i in range(n):\n",
        "  data.append(list(map(int,input().split())))\n",
        "\n",
        "\n",
        "for tc in range(int(input())):\n",
        "  result = 0\n",
        "  graph = [[0]*(n)for _ in range(m)]\n",
        "  start_x,start_y,k,j =map(int,input().split())\n",
        "\n",
        "  q=deque()\n",
        "  q.append((start_x-1,start_y-1))\n",
        "  graph[start_x-1][start_y-1] = 1 # 방문처리\n",
        "  while q:\n",
        "    x,y = q.popleft()\n",
        "    result+=data[x][y]\n",
        "    for i in range(2):\n",
        "      nx = x + dx[i]\n",
        "      ny = y + dy[i]\n",
        "      if 0<=nx<k and 0<=ny<j:\n",
        "        if graph[nx][ny]!=1: # 방문하지 않았으면\n",
        "          graph[nx][ny]=1\n",
        "          q.append((nx,ny))\n",
        "  final_result.append(result)\n",
        "\n",
        "for i in final_result:\n",
        "  print(i)"
      ]
    },
    {
      "cell_type": "code",
      "source": [
        "# tc별로 각각의 시간 복잡도를 이용이 아닌 모든 tc의 시간복잡도를 이용해야함\n",
        "# ->시간초과\n",
        "import copy\n",
        "n,m = map(int,input().split())\n",
        "dx = [0,1]\n",
        "dy = [1,0]\n",
        "\n",
        "data = []\n",
        "final_result=[]\n",
        "\n",
        "for i in range(n):\n",
        "  data.append(list(map(int,input().split())))\n",
        "\n",
        "\n",
        "for tc in range(int(input())):\n",
        "  result = 0\n",
        "  graph = [[0]*(n)for _ in range(m)]\n",
        "  start_x,start_y,k,j =map(int,input().split())\n",
        "  \n",
        "  while start_y<=j:\n",
        "    x = copy.deepcopy(start_x)\n",
        "    while x<=k:\n",
        "      result+=data[x-1][start_y-1]\n",
        "      x+=1\n",
        "    start_y+=1\n",
        "  final_result.append(result)\n",
        "for i in final_result:\n",
        "  print(i)"
      ],
      "metadata": {
        "colab": {
          "base_uri": "https://localhost:8080/"
        },
        "id": "RnF_mBTa4Gf1",
        "outputId": "08aefe71-9665-4b65-8bd6-f23fcaeeaf1c"
      },
      "execution_count": 17,
      "outputs": [
        {
          "output_type": "stream",
          "name": "stdout",
          "text": [
            "4 4\n",
            "9 14 29 7\n",
            "1 31 6 13\n",
            "21 26 40 16\n",
            "8 38 11 23\n",
            "3\n",
            "1 1 3 2\n",
            "1 1 1 4\n",
            "1 1 4 4\n",
            "102\n",
            "59\n",
            "293\n"
          ]
        }
      ]
    },
    {
      "cell_type": "code",
      "source": [
        "n,m = map(int,input().split())\n",
        "dx = [0,1]\n",
        "dy = [1,0]\n",
        "\n",
        "data = []\n",
        "final_result=[]\n",
        "\n",
        "for i in range(n):\n",
        "  data.append(list(map(int,input().split())))\n",
        "\n",
        "for j in range(m): # 각 열의 합\n",
        "  for i in range(1,n):\n",
        "    data[i][j]+=data[i-1][j]\n",
        "\n",
        "for tc in range(int(input())):\n",
        "  result = 0\n",
        "  x1,y1,x2,y2 =map(int,input().split())\n",
        "  result+= sum(data[x2-1][y1-1:y2])\n",
        "  if x1>1:\n",
        "    result-=sum(data[x1-2][y1-1:y2])\n",
        "  final_result.append(result)\n",
        "for i in final_result:\n",
        "  print(i)"
      ],
      "metadata": {
        "id": "O3SqZaIn4JMs"
      },
      "execution_count": null,
      "outputs": []
    }
  ]
}