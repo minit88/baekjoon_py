{
  "nbformat": 4,
  "nbformat_minor": 0,
  "metadata": {
    "colab": {
      "name": "Greedy_1931.ipynb",
      "provenance": [],
      "authorship_tag": "ABX9TyPFMBEyb0wIoecBw9+UFxIV",
      "include_colab_link": true
    },
    "kernelspec": {
      "name": "python3",
      "display_name": "Python 3"
    },
    "language_info": {
      "name": "python"
    }
  },
  "cells": [
    {
      "cell_type": "markdown",
      "metadata": {
        "id": "view-in-github",
        "colab_type": "text"
      },
      "source": [
        "<a href=\"https://colab.research.google.com/github/minit88/baekjoon_py/blob/main/Greedy/Greedy_1931.ipynb\" target=\"_parent\"><img src=\"https://colab.research.google.com/assets/colab-badge.svg\" alt=\"Open In Colab\"/></a>"
      ]
    },
    {
      "cell_type": "code",
      "execution_count": null,
      "metadata": {
        "id": "a0L9cSjHTMIU"
      },
      "outputs": [],
      "source": [
        "n= int(input())\n",
        "data =[]\n",
        "\n",
        "for i in range(n):\n",
        "  x,y = map(int,input().split())\n",
        "  data.append((x,y))\n",
        "data.sort(key = lambda x: (x[1],x[0]))\n",
        "\n",
        "end_time=data[0][1]\n",
        "count=1\n",
        "for i in range(1,n):\n",
        "  if data[i][0]>=end_time:\n",
        "    count+=1\n",
        "    end_time = data[i][1]\n",
        "\n",
        "print(count)"
      ]
    }
  ]
}