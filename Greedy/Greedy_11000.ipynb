{
  "nbformat": 4,
  "nbformat_minor": 0,
  "metadata": {
    "colab": {
      "name": "Greedy_11000.ipynb",
      "provenance": [],
      "authorship_tag": "ABX9TyNh8qwGJ5xRoRlXvExab2X4",
      "include_colab_link": true
    },
    "kernelspec": {
      "name": "python3",
      "display_name": "Python 3"
    },
    "language_info": {
      "name": "python"
    }
  },
  "cells": [
    {
      "cell_type": "markdown",
      "metadata": {
        "id": "view-in-github",
        "colab_type": "text"
      },
      "source": [
        "<a href=\"https://colab.research.google.com/github/minit88/baekjoon_py/blob/main/Greedy/Greedy_11000.ipynb\" target=\"_parent\"><img src=\"https://colab.research.google.com/assets/colab-badge.svg\" alt=\"Open In Colab\"/></a>"
      ]
    },
    {
      "cell_type": "code",
      "source": [
        "import heapq\n",
        "\n",
        "n=int(input())\n",
        "data = []\n",
        "heap =[]\n",
        "\n",
        "for i in range(n):\n",
        "  x,y = map(int,input().split())\n",
        "  data.append((x,y))\n",
        "data.sort()\n",
        "\n",
        "heapq.heappush(heap,data[0][1])\n",
        "for i in range(1,n):\n",
        "  if data[i][0] < heap[0]:\n",
        "    heapq.heappush(heap,data[i][1])\n",
        "  else:\n",
        "    heapq.heappop(heap)\n",
        "    heapq.heappush(heap,data[i][1])\n",
        "print(len(heap))\n"
      ],
      "metadata": {
        "colab": {
          "base_uri": "https://localhost:8080/"
        },
        "id": "y6L_t6GM_oJJ",
        "outputId": "67482bfb-e08b-4fcf-f531-09c444ed91c0"
      },
      "execution_count": 8,
      "outputs": [
        {
          "output_type": "stream",
          "name": "stdout",
          "text": [
            "3\n",
            "1 3\n",
            "2 4\n",
            "3 5\n",
            "2\n"
          ]
        }
      ]
    }
  ]
}