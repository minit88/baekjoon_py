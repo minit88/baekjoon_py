{
  "nbformat": 4,
  "nbformat_minor": 0,
  "metadata": {
    "colab": {
      "name": "Greedy_1092.ipynb",
      "provenance": [],
      "authorship_tag": "ABX9TyNr4BP0WmYQ5Ke6DeS2OJNz",
      "include_colab_link": true
    },
    "kernelspec": {
      "name": "python3",
      "display_name": "Python 3"
    },
    "language_info": {
      "name": "python"
    }
  },
  "cells": [
    {
      "cell_type": "markdown",
      "metadata": {
        "id": "view-in-github",
        "colab_type": "text"
      },
      "source": [
        "<a href=\"https://colab.research.google.com/github/minit88/baekjoon_py/blob/main/Greedy/Greedy_1092.ipynb\" target=\"_parent\"><img src=\"https://colab.research.google.com/assets/colab-badge.svg\" alt=\"Open In Colab\"/></a>"
      ]
    },
    {
      "cell_type": "code",
      "execution_count": 3,
      "metadata": {
        "colab": {
          "base_uri": "https://localhost:8080/"
        },
        "id": "wQinOuYQpfTx",
        "outputId": "e3066fd5-b5e2-4b7a-ef5a-f5329fa2883f"
      },
      "outputs": [
        {
          "output_type": "stream",
          "name": "stdout",
          "text": [
            "4\n",
            "23 32 25 28\n",
            "10\n",
            "5 27 10 16 24 20 2 32 18 7\n",
            "3\n"
          ]
        }
      ],
      "source": [
        "import bisect\n",
        "\n",
        "n=int(input())\n",
        "cranes = list(map(int,input().split()))\n",
        "m=int(input())\n",
        "boxes= list(map(int,input().split()))\n",
        "\n",
        "cranes.sort(reverse=True)\n",
        "boxes.sort()\n",
        "\n",
        "if cranes[0] <boxes[-1]: # 크레인이 박스를 처리 할 수 없을 경우\n",
        "  print(-1)\n",
        "  exit()\n",
        "\n",
        "count =0\n",
        "\n",
        "while boxes:\n",
        "  count+=1\n",
        "  for c in cranes:\n",
        "    right = bisect.bisect_right(boxes,c)\n",
        "    if boxes and boxes[right-1]<=c:\n",
        "      boxes.pop(right-1)\n",
        "\n",
        "\n",
        "\n",
        "print(count)\n",
        "\n",
        "\n",
        "\n"
      ]
    }
  ]
}