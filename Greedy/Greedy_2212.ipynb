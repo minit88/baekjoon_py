{
  "nbformat": 4,
  "nbformat_minor": 0,
  "metadata": {
    "colab": {
      "name": "Greedy_2212.ipynb",
      "provenance": [],
      "collapsed_sections": [],
      "authorship_tag": "ABX9TyNl5stgGDaQuAZQsBoqemtN",
      "include_colab_link": true
    },
    "kernelspec": {
      "name": "python3",
      "display_name": "Python 3"
    },
    "language_info": {
      "name": "python"
    }
  },
  "cells": [
    {
      "cell_type": "markdown",
      "metadata": {
        "id": "view-in-github",
        "colab_type": "text"
      },
      "source": [
        "<a href=\"https://colab.research.google.com/github/minit88/baekjoon_py/blob/main/Greedy/Greedy_2212.ipynb\" target=\"_parent\"><img src=\"https://colab.research.google.com/assets/colab-badge.svg\" alt=\"Open In Colab\"/></a>"
      ]
    },
    {
      "cell_type": "code",
      "execution_count": null,
      "metadata": {
        "id": "QNBWYYMdIXnk"
      },
      "outputs": [],
      "source": [
        "n=int(input())\n",
        "k = int(input())\n",
        "data = list(map(int,input().split()))\n",
        "data.sort()\n",
        "dist = []\n",
        "\n",
        "if len(data)==1:\n",
        "  print(0)\n",
        "else:\n",
        "  for i in range(1,n):\n",
        "    dist.append(data[i]-data[i-1])\n",
        "  dist.sort()\n",
        "  dist.reverse()\n",
        "  for i in range(k-1):\n",
        "    dist.pop(0)\n",
        "  print(sum(dist))"
      ]
    }
  ]
}