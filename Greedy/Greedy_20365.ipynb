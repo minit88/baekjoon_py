{
  "nbformat": 4,
  "nbformat_minor": 0,
  "metadata": {
    "colab": {
      "name": "Greedy_20365.ipynb",
      "provenance": [],
      "authorship_tag": "ABX9TyPaPgzRw5g8yBXacTVYs8v0",
      "include_colab_link": true
    },
    "kernelspec": {
      "name": "python3",
      "display_name": "Python 3"
    },
    "language_info": {
      "name": "python"
    }
  },
  "cells": [
    {
      "cell_type": "markdown",
      "metadata": {
        "id": "view-in-github",
        "colab_type": "text"
      },
      "source": [
        "<a href=\"https://colab.research.google.com/github/minit88/baekjoon_py/blob/main/Greedy/Greedy_20365.ipynb\" target=\"_parent\"><img src=\"https://colab.research.google.com/assets/colab-badge.svg\" alt=\"Open In Colab\"/></a>"
      ]
    },
    {
      "cell_type": "code",
      "execution_count": 15,
      "metadata": {
        "colab": {
          "base_uri": "https://localhost:8080/"
        },
        "id": "UTfLsu15mrtP",
        "outputId": "f4f5d4c4-ef3d-456c-8816-10fa66294424"
      },
      "outputs": [
        {
          "output_type": "stream",
          "name": "stdout",
          "text": [
            "10\n",
            "BBRRRBBRRR\n",
            "[4, 9] [1, 6]\n"
          ]
        }
      ],
      "source": [
        "n=int(input())\n",
        "array = list(str(input()))\n",
        "Blue=[]\n",
        "Red=[]\n",
        "for i in range(n): \n",
        "  if array[i]=='B':\n",
        "    if len(Blue)!=0:\n",
        "      if Blue[-1]==i-1: # 파랑이 연속적일 때는 하나로 통합\n",
        "        Blue[-1]=i\n",
        "        continue\n",
        "    Blue.append(i)\n",
        "  else:\n",
        "    if len(Red)!=0:\n",
        "      if Red[-1]==i-1: # 빨강이 연속적일 때는 하나로 통합\n",
        "        Red[-1]=i\n",
        "        continue\n",
        "    Red.append(i)\n",
        "if len(Blue)>len(Red): # 빨강을 파랑으로\n",
        "  count=1 # 전체를 파랑으로\n",
        "  for i in Red:\n",
        "    count+=1\n",
        "else:\n",
        "  count=1 # 전체를 빨강으로\n",
        "  for i in Blue:\n",
        "    count+=1\n",
        "print(count)\n"
      ]
    }
  ]
}