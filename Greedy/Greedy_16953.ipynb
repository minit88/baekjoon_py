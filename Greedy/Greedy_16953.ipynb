{
  "nbformat": 4,
  "nbformat_minor": 0,
  "metadata": {
    "colab": {
      "name": "Greedy_16953.ipynb",
      "provenance": [],
      "authorship_tag": "ABX9TyPHbg1DuYgdcZ/KPknZrh1H",
      "include_colab_link": true
    },
    "kernelspec": {
      "name": "python3",
      "display_name": "Python 3"
    },
    "language_info": {
      "name": "python"
    }
  },
  "cells": [
    {
      "cell_type": "markdown",
      "metadata": {
        "id": "view-in-github",
        "colab_type": "text"
      },
      "source": [
        "<a href=\"https://colab.research.google.com/github/minit88/back_test_py/blob/main/Greedy/Greedy_16953.ipynb\" target=\"_parent\"><img src=\"https://colab.research.google.com/assets/colab-badge.svg\" alt=\"Open In Colab\"/></a>"
      ]
    },
    {
      "cell_type": "code",
      "execution_count": 12,
      "metadata": {
        "id": "gAyboN2W_4TD",
        "colab": {
          "base_uri": "https://localhost:8080/"
        },
        "outputId": "f9da7413-3e13-4747-c721-e337d94f2212"
      },
      "outputs": [
        {
          "output_type": "stream",
          "name": "stdout",
          "text": [
            "2 162\n",
            "5\n"
          ]
        }
      ],
      "source": [
        "# 백준 16953\n",
        "#재귀를 이용을 한 풀이\n",
        "\n",
        "n,m = map(int,input().split())\n",
        "result = int(1e9)\n",
        "\n",
        "def solution(data,count):\n",
        "    global result\n",
        "    count+=1\n",
        "    if 1<=data<=10**9:\n",
        "      data1 = data*2 # 데이터 값에 2를 곱한값\n",
        "      data2_a= []\n",
        "      data2=data*10+1\n",
        "      if data1 == m :\n",
        "        result = min(result,count)\n",
        "      if data2 ==m :\n",
        "        result = min(result,count)\n",
        "      if not data1>m:\n",
        "        solution(data1,count)\n",
        "      if not data2>m:\n",
        "        solution(data2,count)\n",
        "    return result\n",
        "\n",
        "if solution(n,1)==int(1e9):\n",
        "  print(-1)\n",
        "else:\n",
        "  print(result)\n",
        "    \n",
        "    \n",
        "    "
      ]
    }
  ]
}