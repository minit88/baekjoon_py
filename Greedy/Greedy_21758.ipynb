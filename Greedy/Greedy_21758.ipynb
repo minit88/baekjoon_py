{
  "nbformat": 4,
  "nbformat_minor": 0,
  "metadata": {
    "colab": {
      "name": "Greedy_21758.ipynb",
      "provenance": [],
      "authorship_tag": "ABX9TyOG9+JW+gZDSpxPBOyulQau",
      "include_colab_link": true
    },
    "kernelspec": {
      "name": "python3",
      "display_name": "Python 3"
    },
    "language_info": {
      "name": "python"
    }
  },
  "cells": [
    {
      "cell_type": "markdown",
      "metadata": {
        "id": "view-in-github",
        "colab_type": "text"
      },
      "source": [
        "<a href=\"https://colab.research.google.com/github/minit88/baekjoon_py/blob/main/Greedy/Greedy_21758.ipynb\" target=\"_parent\"><img src=\"https://colab.research.google.com/assets/colab-badge.svg\" alt=\"Open In Colab\"/></a>"
      ]
    },
    {
      "cell_type": "code",
      "execution_count": 15,
      "metadata": {
        "colab": {
          "base_uri": "https://localhost:8080/"
        },
        "id": "GhWqfD9muBV6",
        "outputId": "28cb226e-15a9-4f81-a84f-8f59c2427f7a"
      },
      "outputs": [
        {
          "output_type": "stream",
          "name": "stdout",
          "text": [
            "7\n",
            "9 9 4 1 4 9 9\n",
            "[0, 9, 18, 22, 23, 27, 36, 45]\n",
            "57\n"
          ]
        }
      ],
      "source": [
        "#다이나믹 프로그래밍을 이용해 sum 테이블 생성, 시간 복잡도 감소\n",
        "# 총 경우의 수는 3가지\n",
        "\n",
        "from copy import deepcopy\n",
        "\n",
        "n=int(input())\n",
        "sum = [0] # 1 ~ n sum list\n",
        "sum_data = 0\n",
        "data=[0]\n",
        "data+=list(map(int,input().split()))\n",
        "\n",
        "for i in data[1:]:\n",
        "  sum_data+=i\n",
        "  sum.append(sum_data)\n",
        "\n",
        "result = -int(1e9)\n",
        "result_a=0\n",
        "result_b=0\n",
        "# bee,bee,honey\n",
        "for i in range(2,n): # 2 -> n-1\n",
        "\n",
        "  result_a = sum[n]-sum[1]-data[i]\n",
        "  result_b = sum[n]-sum[i]\n",
        "  result = max(result,result_a+result_b)\n",
        "  \n",
        "# honey,bee,bee\n",
        "for i in range(n-1,1,-1):# n-1 -> 2\n",
        "  result_a = sum[n-1]-data[i]\n",
        "  result_b = sum[i-1]\n",
        "  result = max(result,result_a+result_b)\n",
        "\n",
        "#bee,honey,bee\n",
        "for i in range(2,n): # 2 -> n-1\n",
        "  result_a = sum[i]-data[1]\n",
        "  result_b = sum[n-1]-sum[i-1]\n",
        "  result = max(result,result_a+result_b)\n",
        "print(result)"
      ]
    },
    {
      "cell_type": "code",
      "source": [
        "a=[0]\n",
        "a+=[1,2,3,4]\n",
        "print(a)"
      ],
      "metadata": {
        "colab": {
          "base_uri": "https://localhost:8080/"
        },
        "id": "ffIaGRyUwVtz",
        "outputId": "ce583cfc-65c6-496d-bf1c-366cfaa8073f"
      },
      "execution_count": 11,
      "outputs": [
        {
          "output_type": "stream",
          "name": "stdout",
          "text": [
            "[0, 1, 2, 3, 4]\n"
          ]
        }
      ]
    }
  ]
}