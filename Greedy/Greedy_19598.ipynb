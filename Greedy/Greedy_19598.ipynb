{
  "nbformat": 4,
  "nbformat_minor": 0,
  "metadata": {
    "colab": {
      "name": "Heapq_19598.ipynb",
      "provenance": [],
      "authorship_tag": "ABX9TyNkpsW4x1gvwoINEo71eaX9",
      "include_colab_link": true
    },
    "kernelspec": {
      "name": "python3",
      "display_name": "Python 3"
    },
    "language_info": {
      "name": "python"
    }
  },
  "cells": [
    {
      "cell_type": "markdown",
      "metadata": {
        "id": "view-in-github",
        "colab_type": "text"
      },
      "source": [
        "<a href=\"https://colab.research.google.com/github/minit88/baekjoon_py/blob/main/Greedy/Greedy_19598.ipynb\" target=\"_parent\"><img src=\"https://colab.research.google.com/assets/colab-badge.svg\" alt=\"Open In Colab\"/></a>"
      ]
    },
    {
      "cell_type": "code",
      "execution_count": null,
      "metadata": {
        "id": "lnbXVcTfDiSj"
      },
      "outputs": [],
      "source": [
        "import heapq\n",
        "\n",
        "n= int(input())\n",
        "data = []\n",
        "for i in range(n):\n",
        "  x,y = map(int,input().split())\n",
        "  data.append((x,y))\n",
        "\n",
        "data.sort()\n",
        "\n",
        "if len(data) == 1:\n",
        "  print(1)\n",
        "else:\n",
        "  heap = []\n",
        "  heapq.heappush(heap,data[0][1])\n",
        "  for i in range(1,n):\n",
        "    if data[i][0]<heap[0]:\n",
        "      heapq.heappush(heap,data[i][1])\n",
        "    else:\n",
        "      heapq.heappop(heap)\n",
        "      heapq.heappush(heap,data[i][1])\n",
        "  print(len(heap))\n",
        "  \n"
      ]
    }
  ]
}