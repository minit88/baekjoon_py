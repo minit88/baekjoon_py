{
  "nbformat": 4,
  "nbformat_minor": 0,
  "metadata": {
    "colab": {
      "name": "Greedy_2606.ipynb",
      "provenance": [],
      "authorship_tag": "ABX9TyMS2s4UHuQdB03jZdnTxwFz",
      "include_colab_link": true
    },
    "kernelspec": {
      "name": "python3",
      "display_name": "Python 3"
    },
    "language_info": {
      "name": "python"
    }
  },
  "cells": [
    {
      "cell_type": "markdown",
      "metadata": {
        "id": "view-in-github",
        "colab_type": "text"
      },
      "source": [
        "<a href=\"https://colab.research.google.com/github/minit88/baekjoon_py/blob/main/Greedy/Greedy_2606.ipynb\" target=\"_parent\"><img src=\"https://colab.research.google.com/assets/colab-badge.svg\" alt=\"Open In Colab\"/></a>"
      ]
    },
    {
      "cell_type": "code",
      "execution_count": null,
      "metadata": {
        "id": "dICd4-fjgh4R"
      },
      "outputs": [],
      "source": [
        "n=int(input())\n",
        "m=int(input())\n",
        "\n",
        "parent = [i for i in range(n+1)]\n",
        "\n",
        "result = 0 # 결과를 저장할 변수\n",
        "\n",
        "def find_parent(parent,x):\n",
        "  if parent[x] != x:\n",
        "    parent[x] = find_parent(parent,parent[x])\n",
        "  return parent[x]\n",
        "\n",
        "def union_parent(parent,x,y):\n",
        "  x = find_parent(parent,x)\n",
        "  y = find_parent(parent,y)\n",
        "  if x>y :\n",
        "    parent[x]=y\n",
        "  else:\n",
        "    parent[y]=x\n",
        "\n",
        "for i in range(m):\n",
        "    x,y = map(int,input().split())\n",
        "    if find_parent(parent,x)!= find_parent(parent,y):\n",
        "      union_parent(parent,x,y)\n",
        "\n",
        "for i in range(2,n+1):\n",
        "    if find_parent(parent,i) == 1 :\n",
        "      result +=1\n",
        "print(result-1)\n",
        "\n"
      ]
    }
  ]
}