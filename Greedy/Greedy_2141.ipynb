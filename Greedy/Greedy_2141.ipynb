{
  "nbformat": 4,
  "nbformat_minor": 0,
  "metadata": {
    "colab": {
      "name": "Greedy_2141.ipynb",
      "provenance": [],
      "authorship_tag": "ABX9TyPcGgSoMb4Iva3Qn86jjZSd",
      "include_colab_link": true
    },
    "kernelspec": {
      "name": "python3",
      "display_name": "Python 3"
    },
    "language_info": {
      "name": "python"
    }
  },
  "cells": [
    {
      "cell_type": "markdown",
      "metadata": {
        "id": "view-in-github",
        "colab_type": "text"
      },
      "source": [
        "<a href=\"https://colab.research.google.com/github/minit88/baekjoon_py/blob/main/Greedy/Greedy_2141.ipynb\" target=\"_parent\"><img src=\"https://colab.research.google.com/assets/colab-badge.svg\" alt=\"Open In Colab\"/></a>"
      ]
    },
    {
      "cell_type": "code",
      "execution_count": null,
      "metadata": {
        "id": "qVM_1Fc4I4zv"
      },
      "outputs": [],
      "source": [
        "import bisect\n",
        "\n",
        "# 현 우체국에서의 모든 거리당 인구수 합을 구함\n",
        "def cal_dist(position):\n",
        "  dist=0\n",
        "  for town,population in arr:\n",
        "    dist += abs(position-town)*population\n",
        "  return dist\n",
        "\n",
        "n = int(input())\n",
        "arr=[]\n",
        "for i in range(n):\n",
        "  x,y = map(int,input().split())\n",
        "  arr.append((x,y))\n",
        "left = -1000000000\n",
        "right = 1000000000\n",
        "answer = 0\n",
        "\n",
        "# 이잔탐색 실행\n",
        "while left<=right:\n",
        "  mid = (left + right)//2\n",
        "  if cal_dist(mid)<cal_dist(mid+1): \n",
        "    right = mid -1\n",
        "    answer =mid # 최소일 경우니 적합하므로 answer 값 갱신\n",
        "  else:\n",
        "    left = mid+1\n",
        "\n",
        "# 같은 경우에 왼쪽꺼를 출력\n",
        "arr.sort()\n",
        "close_town_idx = bisect.bisect_left(arr,(answer,0))\n",
        "if cal_dist(arr[close_town_idx-1][0]) <= cal_dist(arr[close_town_idx][0]):\n",
        "  answer=close_town_idx-1\n",
        "else:\n",
        "  answer=close_town_idx\n",
        "print(arr[answer][0])"
      ]
    }
  ]
}