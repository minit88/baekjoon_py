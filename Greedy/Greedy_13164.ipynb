{
  "nbformat": 4,
  "nbformat_minor": 0,
  "metadata": {
    "colab": {
      "name": "Greedy_13164.ipynb",
      "provenance": [],
      "authorship_tag": "ABX9TyP/oz1pXZ/UGlHpnTmicmZv",
      "include_colab_link": true
    },
    "kernelspec": {
      "name": "python3",
      "display_name": "Python 3"
    },
    "language_info": {
      "name": "python"
    }
  },
  "cells": [
    {
      "cell_type": "markdown",
      "metadata": {
        "id": "view-in-github",
        "colab_type": "text"
      },
      "source": [
        "<a href=\"https://colab.research.google.com/github/minit88/baekjoon_py/blob/main/Greedy/Greedy_13164.ipynb\" target=\"_parent\"><img src=\"https://colab.research.google.com/assets/colab-badge.svg\" alt=\"Open In Colab\"/></a>"
      ]
    },
    {
      "cell_type": "code",
      "execution_count": 12,
      "metadata": {
        "colab": {
          "base_uri": "https://localhost:8080/"
        },
        "id": "YslNUPY0zP_7",
        "outputId": "9bea5f75-85df-4c21-a66a-92094e23570b"
      },
      "outputs": [
        {
          "output_type": "stream",
          "name": "stdout",
          "text": [
            "5 3\n",
            "1 3 5 6 10\n",
            "3\n"
          ]
        }
      ],
      "source": [
        "#직접 푼 풀이 -> 정답x\n",
        "\n",
        "n,k = map(int,input().split())\n",
        "data=list(map(int,input().split()))\n",
        "data.sort()\n",
        "\n",
        "if len(data)==1: # 원생이 한명일 경우에\n",
        "  print(0)\n",
        "  \n",
        "\n",
        "else:\n",
        "  num=1 # 현재 조 갯수\n",
        "  now_dif = data[1]-data[0]\n",
        "  array = [[] for _ in range(k+1)] # k 개의 빈 조 생성, index = 0은 사용하지 않는 조\n",
        "  array[num].append(data[0])\n",
        "  for i in range(1,n):\n",
        "    if num<k: # 현재 조 개수가 생성 가능한 범위에 속할 경우\n",
        "      if data[i]-data[i-1] ==now_dif:\n",
        "        array[num].append(data[i])\n",
        "      elif data[i]-data[i-1]>now_dif:\n",
        "        now_dif = data[i]-data[i-1]\n",
        "        num+=1\n",
        "        array[num].append(data[i])\n",
        "      elif data[i]-data[i-1]<now_dif:\n",
        "        now_dif = data[i]-data[i-1]\n",
        "        array[num].pop()\n",
        "        num+=1\n",
        "        array[num].append(data[i-1])\n",
        "        array[num].append(data[i])\n",
        "    elif num==k: # 더이상 생성 불가능 할 경우\n",
        "      array[num].append(data[i])\n",
        "  \n",
        "  abc=[]\n",
        "  # 조에 각 한명씩 들어가 있는 지 확인\n",
        "  for i in range(1,k+1):\n",
        "    if len(array[i])>1:\n",
        "      abc.append(i)\n",
        "      continue\n",
        "    elif len(array[i])==0:\n",
        "      array[i].append(array[abc[-1]].pop())\n",
        "      if len(array[abc[-1]]) == 1:\n",
        "        abc.pop()\n",
        "\n",
        "  result =0\n",
        "  for i in range(1,k+1):\n",
        "    result+= max(array[i])-min(array[i])\n",
        "  print(result)\n",
        "\n"
      ]
    },
    {
      "cell_type": "code",
      "source": [
        "# 13164 풀이\n",
        "\n",
        "n,k= map(int,input().split())\n",
        "data = list(map(int,input().split()))\n",
        "data.sort()\n",
        "array = []\n",
        "for i in range(1,n):\n",
        "  dif = data[i] - data[i-1]\n",
        "  array.append(dif)\n",
        "array.sort()\n",
        "array.reverse()\n",
        "print(sum(array[k-1:]))"
      ],
      "metadata": {
        "id": "QPuoA0ynBt6e"
      },
      "execution_count": null,
      "outputs": []
    }
  ]
}