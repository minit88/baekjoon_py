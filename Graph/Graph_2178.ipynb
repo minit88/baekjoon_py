{
  "nbformat": 4,
  "nbformat_minor": 0,
  "metadata": {
    "colab": {
      "provenance": [],
      "authorship_tag": "ABX9TyMpT/+vFh/XcU1c7PBlXWTw",
      "include_colab_link": true
    },
    "kernelspec": {
      "name": "python3",
      "display_name": "Python 3"
    },
    "language_info": {
      "name": "python"
    }
  },
  "cells": [
    {
      "cell_type": "markdown",
      "metadata": {
        "id": "view-in-github",
        "colab_type": "text"
      },
      "source": [
        "<a href=\"https://colab.research.google.com/github/minit88/baekjoon_py/blob/main/Graph/Graph_2178.ipynb\" target=\"_parent\"><img src=\"https://colab.research.google.com/assets/colab-badge.svg\" alt=\"Open In Colab\"/></a>"
      ]
    },
    {
      "cell_type": "markdown",
      "source": [
        "# **BOJ 2178**"
      ],
      "metadata": {
        "id": "mQtR7YMBFgoH"
      }
    },
    {
      "cell_type": "code",
      "execution_count": 7,
      "metadata": {
        "colab": {
          "base_uri": "https://localhost:8080/"
        },
        "id": "d9nfNRowB-CF",
        "outputId": "4de3104e-31d1-41a6-f6f6-13db549f6aa8"
      },
      "outputs": [
        {
          "output_type": "stream",
          "name": "stdout",
          "text": [
            "4 6\n",
            "110110\n",
            "110110\n",
            "111111\n",
            "111101\n",
            "1 2 1000000000 8 9 1000000000 \n",
            "2 3 1000000000 7 8 1000000000 \n",
            "3 4 5 6 7 8 \n",
            "4 5 6 7 1000000000 9 \n"
          ]
        }
      ],
      "source": [
        "# 2178\n",
        "\n",
        "from collections import deque\n",
        "n,m = map(int,input().split())\n",
        "data = []\n",
        "INF = int(1e9)\n",
        "for i in range(n):\n",
        "  data.append(list(map(int,input())))\n",
        "\n",
        "distance = [[INF]*(m) for _ in range(n)]\n",
        "\n",
        "dx = [-1,0,1,0]\n",
        "dy = [0,1,0,-1]\n",
        "\n",
        "q= deque()\n",
        "q.append((0,0,0))\n",
        "\n",
        "while q:\n",
        "  nowx ,nowy,dist = q.popleft()\n",
        "  if distance[nowx][nowy]<=dist+1:\n",
        "    continue\n",
        "  dist+=1\n",
        "  distance[nowx][nowy]=dist\n",
        "\n",
        "  for i in range(4):\n",
        "      nx = nowx+dx[i]\n",
        "      ny = nowy+dy[i]\n",
        "      if 0<=nx<n and 0<=ny<m:\n",
        "        if data[nx][ny]==1:\n",
        "            q.append((nx,ny,dist))\n",
        "\n",
        "\n",
        "print(distance[n-1][m-1])\n",
        "\n",
        "    \n"
      ]
    }
  ]
}