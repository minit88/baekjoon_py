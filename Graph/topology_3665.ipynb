{
  "nbformat": 4,
  "nbformat_minor": 0,
  "metadata": {
    "colab": {
      "provenance": [],
      "authorship_tag": "ABX9TyNlWABT1f2d/EU6ALGJ6aw6",
      "include_colab_link": true
    },
    "kernelspec": {
      "name": "python3",
      "display_name": "Python 3"
    },
    "language_info": {
      "name": "python"
    }
  },
  "cells": [
    {
      "cell_type": "markdown",
      "metadata": {
        "id": "view-in-github",
        "colab_type": "text"
      },
      "source": [
        "<a href=\"https://colab.research.google.com/github/minit88/baekjoon_py/blob/main/Graph/topology_3665.ipynb\" target=\"_parent\"><img src=\"https://colab.research.google.com/assets/colab-badge.svg\" alt=\"Open In Colab\"/></a>"
      ]
    },
    {
      "cell_type": "code",
      "execution_count": 23,
      "metadata": {
        "colab": {
          "base_uri": "https://localhost:8080/"
        },
        "id": "_HdvRZP0bTz8",
        "outputId": "013ccbd0-933a-41c7-9c31-b76c0a0629e8"
      },
      "outputs": [
        {
          "output_type": "stream",
          "name": "stdout",
          "text": [
            "3\n",
            "5\n",
            "5 4 3 2 1\n",
            "2\n",
            "2 4\n",
            "3 4\n",
            "5 3 2 4 1 \n",
            "3\n",
            "2 3 1\n",
            "0\n",
            "2 3 1 \n",
            "4\n",
            "1 2 3 4\n",
            "3\n",
            "1 2\n",
            "3 4\n",
            "2 3\n",
            "IMPOSSIBLE\n"
          ]
        }
      ],
      "source": [
        "from collections import deque\n",
        "final = []\n",
        "\n",
        "\n",
        "for tc in range(int(input())):\n",
        "  result=[]\n",
        "  n= int(input())\n",
        "  data = list(map(int,input().split()))\n",
        "  graph =[[]for _ in range(n+1)]\n",
        "  indegree=[0]*(n+1)\n",
        "  m=int(input())\n",
        "  for i in range(n-1):\n",
        "    for j in range(i+1,n):\n",
        "      graph[data[i]].append(data[j])\n",
        "      indegree[data[j]]+=1\n",
        "  \n",
        "  for i in range(m):\n",
        "    x,y = map(int,input().split())\n",
        "    flag = True\n",
        "    if y in graph[x]:\n",
        "      graph[x].remove(y)\n",
        "      graph[y].append(x)\n",
        "      indegree[x]+=1\n",
        "      indegree[y]-=1\n",
        "      flag = False\n",
        "\n",
        "    if flag:\n",
        "      graph[y].remove(x)\n",
        "      graph[x].append(y)\n",
        "      indegree[y]+=1\n",
        "      indegree[x]-=1\n",
        "\n",
        "  cycle = False\n",
        "  oneway=True\n",
        "  q=deque()\n",
        "  for i in range(1,n+1):\n",
        "    if indegree[i]==0:\n",
        "      q.append(i)\n",
        "\n",
        "  if not q:\n",
        "    cycle = True\n",
        "\n",
        "  while q:\n",
        "    if len(q)>1:\n",
        "      oneway = False\n",
        "      break\n",
        "    now=q.popleft()\n",
        "    result.append(now)\n",
        "    if graph[now]:\n",
        "      for i in graph[now]:\n",
        "        indegree[i]-=1\n",
        "        if indegree[i]==0:\n",
        "          q.append(i)\n",
        "      \n",
        "  if cycle or len(result)<n:\n",
        "    print('IMPOSSIBLE')\n",
        "  elif not oneway:\n",
        "    print('?')\n",
        "  else:\n",
        "    for i in result:\n",
        "      print(i,end=' ')\n",
        "    print()\n"
      ]
    }
  ]
}