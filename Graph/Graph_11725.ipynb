{
  "nbformat": 4,
  "nbformat_minor": 0,
  "metadata": {
    "colab": {
      "provenance": [],
      "authorship_tag": "ABX9TyNOWVuKqmjAyvWXMUPzQcEL",
      "include_colab_link": true
    },
    "kernelspec": {
      "name": "python3",
      "display_name": "Python 3"
    },
    "language_info": {
      "name": "python"
    }
  },
  "cells": [
    {
      "cell_type": "markdown",
      "metadata": {
        "id": "view-in-github",
        "colab_type": "text"
      },
      "source": [
        "<a href=\"https://colab.research.google.com/github/minit88/baekjoon_py/blob/main/Graph/Graph_11725.ipynb\" target=\"_parent\"><img src=\"https://colab.research.google.com/assets/colab-badge.svg\" alt=\"Open In Colab\"/></a>"
      ]
    },
    {
      "cell_type": "code",
      "execution_count": 6,
      "metadata": {
        "colab": {
          "base_uri": "https://localhost:8080/"
        },
        "id": "kvok9yTF0PRK",
        "outputId": "9d6c1e2f-4d0c-4675-d7e1-5133edf4f836"
      },
      "outputs": [
        {
          "output_type": "stream",
          "name": "stdout",
          "text": [
            "7\n",
            "1 6\n",
            "6 3\n",
            "3 5\n",
            "4 1\n",
            "2 4\n",
            "4 7\n",
            "4\n",
            "6\n",
            "1\n",
            "3\n",
            "1\n",
            "4\n"
          ]
        }
      ],
      "source": [
        "from collections import deque\n",
        "\n",
        "n=int(input())\n",
        "tree = [[]for _ in range(n+1)]\n",
        "parent = [-1 for _ in range(n+1)]\n",
        "\n",
        "for i in range(n-1):\n",
        "  x,y = map(int,input().split())\n",
        "  tree[x].append(y)\n",
        "  tree[y].append(x)\n",
        "q=deque()\n",
        "q.append(1)\n",
        "\n",
        "# bfs 실행\n",
        "while q:\n",
        "  node=q.popleft()\n",
        "  for i in tree[node]:\n",
        "    if parent[i]==-1:\n",
        "      parent[i]=node\n",
        "      q.append(i)\n",
        "\n",
        "for i in range(2,n+1):\n",
        "  print(parent[i])"
      ]
    }
  ]
}