{
  "nbformat": 4,
  "nbformat_minor": 0,
  "metadata": {
    "colab": {
      "provenance": [],
      "authorship_tag": "ABX9TyOzY7lpbb/1l1CT64gCfCwp"
    },
    "kernelspec": {
      "name": "python3",
      "display_name": "Python 3"
    },
    "language_info": {
      "name": "python"
    }
  },
  "cells": [
    {
      "cell_type": "code",
      "execution_count": 23,
      "metadata": {
        "colab": {
          "base_uri": "https://localhost:8080/"
        },
        "id": "wOZBTUDKMxfK",
        "outputId": "e86ac019-3fc1-47ff-8450-371a85f3803a"
      },
      "outputs": [
        {
          "output_type": "stream",
          "name": "stdout",
          "text": [
            "4 2\n",
            "1 0\n",
            "2 0\n",
            "1 1\n",
            "0 0\n",
            "1 0 \n",
            "0 0 \n",
            "1 2 \n",
            "0 0 \n"
          ]
        }
      ],
      "source": [
        "from collections import deque\n",
        "INF = int(1e9)\n",
        "\n",
        "dx = [-1,0,1,0]\n",
        "dy= [0,1,0,-1]\n",
        "\n",
        "n,m = map(int,input().split())\n",
        "graph=[]\n",
        "distance = [[INF]*(m) for _ in range(n)]\n",
        "\n",
        "for i in range(n):\n",
        "  graph.append(list(map(int,input().split())))\n",
        "\n",
        "for i in range(n):\n",
        "    for j in range(m):\n",
        "      if graph[i][j] == 2:\n",
        "        start_x,start_y = i,j\n",
        "        distance[start_x][start_y] = 0\n",
        "      elif graph[i][j]==0:\n",
        "        distance[i][j]=0\n",
        "\n",
        "\n",
        "\n",
        "\n",
        "q= deque()\n",
        "q.append((start_x,start_y,0)) # x,y,dist\n",
        "\n",
        "while q:\n",
        "  x,y,dist = q.popleft()\n",
        "  for i in range(4):\n",
        "    nx = x+dx[i]\n",
        "    ny = y+dy[i]\n",
        "    if 0<=nx<n and 0<=ny<m :\n",
        "      next_dist = graph[nx][ny]\n",
        "      if distance[nx][ny] == 0:\n",
        "        continue\n",
        "      now_dist = next_dist+dist\n",
        "      if distance[nx][ny]>now_dist :\n",
        "          distance[nx][ny]=now_dist \n",
        "          q.append((nx,ny,now_dist))\n",
        "\n",
        "for i in range(n):\n",
        "  for j in range(m):\n",
        "    if distance[i][j]>=INF :\n",
        "      print(-1,end=' ')\n",
        "    else:\n",
        "      print(distance[i][j],end=' ')\n",
        "  print()\n",
        "\n"
      ]
    },
    {
      "cell_type": "code",
      "source": [
        "1 1 1 1 1 1 1 1 1 1 0 0 0 0 0"
      ],
      "metadata": {
        "colab": {
          "base_uri": "https://localhost:8080/"
        },
        "id": "GSH5OLG6Qgrt",
        "outputId": "765c0bde-7c44-431a-ae9d-afb7e01db0dd"
      },
      "execution_count": 4,
      "outputs": [
        {
          "output_type": "stream",
          "name": "stdout",
          "text": [
            "['2', ' ', '1', ' ', '1', ' ', '1', ' ', '1', ' ', '1', ' ', '1', ' ', '1', ' ', '1', ' ', '1', ' ', '1', ' ', '1', ' ', '1', ' ', '1', ' ', '1']\n"
          ]
        }
      ]
    }
  ]
}