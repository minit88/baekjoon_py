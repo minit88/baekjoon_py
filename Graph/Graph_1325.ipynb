{
  "nbformat": 4,
  "nbformat_minor": 0,
  "metadata": {
    "colab": {
      "provenance": [],
      "authorship_tag": "ABX9TyOzNMPre5YctGDNjyKqA/Uu",
      "include_colab_link": true
    },
    "kernelspec": {
      "name": "python3",
      "display_name": "Python 3"
    },
    "language_info": {
      "name": "python"
    }
  },
  "cells": [
    {
      "cell_type": "markdown",
      "metadata": {
        "id": "view-in-github",
        "colab_type": "text"
      },
      "source": [
        "<a href=\"https://colab.research.google.com/github/minit88/baekjoon_py/blob/main/Graph/Graph_1325.ipynb\" target=\"_parent\"><img src=\"https://colab.research.google.com/assets/colab-badge.svg\" alt=\"Open In Colab\"/></a>"
      ]
    },
    {
      "cell_type": "markdown",
      "source": [
        "# **BOJ-1325**"
      ],
      "metadata": {
        "id": "hl-2mqPw_tfW"
      }
    },
    {
      "cell_type": "code",
      "execution_count": 5,
      "metadata": {
        "colab": {
          "base_uri": "https://localhost:8080/"
        },
        "id": "2Ii4tAfFgkn3",
        "outputId": "9b34898a-0fd3-469c-b7c3-cd43e7ab8aa3"
      },
      "outputs": [
        {
          "output_type": "stream",
          "name": "stdout",
          "text": [
            "5 4\n",
            "3 1\n",
            "3 2\n",
            "4 3\n",
            "5 3\n",
            "1 2 "
          ]
        }
      ],
      "source": [
        "from collections import deque\n",
        "\n",
        "n,m = map(int,input().split())\n",
        "data = [[]for _ in range(n+1)]\n",
        "counts = [0]*(n+1)\n",
        "\n",
        "for i in range(m):\n",
        "  x,y = map(int,input().split())\n",
        "  data[y].append(x)\n",
        "maxC=0\n",
        "for i in range(1,n+1):\n",
        "  count = 1\n",
        "  q=deque()\n",
        "  q.append(i)\n",
        "  conti=[0]*(n+1) # 방문한 리스트\n",
        "  conti[i]=1\n",
        "  while q:\n",
        "    now  = q.popleft()\n",
        "    for k in data[now]:\n",
        "      if conti[k]==0:\n",
        "        count+=1\n",
        "        q.append(k)\n",
        "        conti[k]=1\n",
        "  maxC = max(maxC,count)\n",
        "  counts[i]=count\n",
        "for x in range(1,n+1):\n",
        "  if maxC == counts[x]:\n",
        "    print(x,end=' ')\n"
      ]
    }
  ]
}