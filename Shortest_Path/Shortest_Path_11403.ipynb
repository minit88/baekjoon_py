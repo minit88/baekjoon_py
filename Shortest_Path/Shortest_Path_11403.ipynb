{
  "nbformat": 4,
  "nbformat_minor": 0,
  "metadata": {
    "colab": {
      "provenance": [],
      "authorship_tag": "ABX9TyO124Pz9xGyOuyq14ToO5gH",
      "include_colab_link": true
    },
    "kernelspec": {
      "name": "python3",
      "display_name": "Python 3"
    },
    "language_info": {
      "name": "python"
    }
  },
  "cells": [
    {
      "cell_type": "markdown",
      "metadata": {
        "id": "view-in-github",
        "colab_type": "text"
      },
      "source": [
        "<a href=\"https://colab.research.google.com/github/minit88/baekjoon_py/blob/main/Shortest_Path/Shortest_Path_11403.ipynb\" target=\"_parent\"><img src=\"https://colab.research.google.com/assets/colab-badge.svg\" alt=\"Open In Colab\"/></a>"
      ]
    },
    {
      "cell_type": "markdown",
      "source": [
        "# **BOJ 11403**"
      ],
      "metadata": {
        "id": "rU38h35ybyK7"
      }
    },
    {
      "cell_type": "code",
      "execution_count": null,
      "metadata": {
        "id": "W2xaS1duQ0HO"
      },
      "outputs": [],
      "source": [
        "from collections import deque\n",
        "\n",
        "n=int(input())\n",
        "data = []\n",
        "for i in range(1,n+1):\n",
        "  data.append(list(map(int,input().split())))\n",
        "\n",
        "q=deque()\n",
        "for i in range(n):\n",
        "  for j in range(n):\n",
        "    if data[i][j]==1:\n",
        "      q.append((i,j))\n",
        "\n",
        "while q:\n",
        "  now,next = q.popleft()\n",
        "  for i in range(n):\n",
        "    if data[next][i]==1 and data[now][i]==0:\n",
        "      q.append((now,i))\n",
        "      data[now][i]=1\n",
        "    \n",
        "for i in data:\n",
        "  for j in i:\n",
        "    print(j,end=' ')\n",
        "  print()\n",
        "\n"
      ]
    }
  ]
}