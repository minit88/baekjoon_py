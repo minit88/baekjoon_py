{
  "nbformat": 4,
  "nbformat_minor": 0,
  "metadata": {
    "colab": {
      "name": "Topology 14567.ipynb",
      "provenance": [],
      "authorship_tag": "ABX9TyM9YjPchBhHx8elKWzTDiMG",
      "include_colab_link": true
    },
    "kernelspec": {
      "name": "python3",
      "display_name": "Python 3"
    },
    "language_info": {
      "name": "python"
    }
  },
  "cells": [
    {
      "cell_type": "markdown",
      "metadata": {
        "id": "view-in-github",
        "colab_type": "text"
      },
      "source": [
        "<a href=\"https://colab.research.google.com/github/minit88/baekjoon_py/blob/main/Shortest_Path/Topology_14567.ipynb\" target=\"_parent\"><img src=\"https://colab.research.google.com/assets/colab-badge.svg\" alt=\"Open In Colab\"/></a>"
      ]
    },
    {
      "cell_type": "code",
      "execution_count": 14,
      "metadata": {
        "colab": {
          "base_uri": "https://localhost:8080/"
        },
        "id": "2IQqzrGdhboh",
        "outputId": "2b88e85e-cf52-49ff-ca16-dee1fe4b9165"
      },
      "outputs": [
        {
          "output_type": "stream",
          "name": "stdout",
          "text": [
            "6 4\n",
            "1 2\n",
            "1 3\n",
            "2 5\n",
            "4 5\n",
            "1 2 2 1 3 1 "
          ]
        }
      ],
      "source": [
        "# topology\n",
        "# BOJ 14567\n",
        "from collections import deque\n",
        "\n",
        "n,m = map(int,input().split())\n",
        "indegree = [0]*(n+1) # 진입차수 정보\n",
        "\n",
        "# 간선정보 입력\n",
        "data = [[] for _ in range(n+1)]\n",
        "for i in range(m):\n",
        "  a,b = map(int,input().split())\n",
        "  indegree[b]+=1\n",
        "  data[a].append(b)\n",
        "\n",
        "def topology():\n",
        "  q=deque()\n",
        "  result =[0]*(n+1) # 결과를 저장\n",
        "  \n",
        "  # 진입차수가 0 이면 큐에 삽입\n",
        "  for i in range(1,n+1):\n",
        "    if indegree[i]==0:\n",
        "      q.append(i)\n",
        "      result[i]+=1\n",
        "  while q:\n",
        "    now = q.popleft()\n",
        "    for i in data[now]:\n",
        "      indegree[i]-=1\n",
        "      result[i]=max(result[i],result[now]+1)\n",
        "      if indegree[i]==0:\n",
        "        q.append(i)\n",
        "\n",
        "  for i in range(1,n+1):\n",
        "    print(result[i],end=' ')\n",
        "\n",
        "topology()\n"
      ]
    }
  ]
}