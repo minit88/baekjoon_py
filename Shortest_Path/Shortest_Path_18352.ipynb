{
  "nbformat": 4,
  "nbformat_minor": 0,
  "metadata": {
    "colab": {
      "provenance": [],
      "authorship_tag": "ABX9TyPcQrOwG34CnLhJZnBjIREK",
      "include_colab_link": true
    },
    "kernelspec": {
      "name": "python3",
      "display_name": "Python 3"
    },
    "language_info": {
      "name": "python"
    }
  },
  "cells": [
    {
      "cell_type": "markdown",
      "metadata": {
        "id": "view-in-github",
        "colab_type": "text"
      },
      "source": [
        "<a href=\"https://colab.research.google.com/github/minit88/baekjoon_py/blob/main/Shortest_Path/Shortest_Path_18352.ipynb\" target=\"_parent\"><img src=\"https://colab.research.google.com/assets/colab-badge.svg\" alt=\"Open In Colab\"/></a>"
      ]
    },
    {
      "cell_type": "code",
      "execution_count": 8,
      "metadata": {
        "colab": {
          "base_uri": "https://localhost:8080/"
        },
        "id": "zu0NyyH7RWH1",
        "outputId": "70443ddb-c7c0-405c-cc0b-a400f99b4662"
      },
      "outputs": [
        {
          "output_type": "stream",
          "name": "stdout",
          "text": [
            "4 4 2 1\n",
            "1 2\n",
            "1 3\n",
            "2 3\n",
            "2 4\n",
            "4\n"
          ]
        }
      ],
      "source": [
        "# 18352\n",
        "from collections import deque\n",
        "\n",
        "n,m,k,x = map(int,input().split())\n",
        "INF = int(1e9)\n",
        "\n",
        "data= [[]for _ in range(n+1)]\n",
        "distance = [INF for _ in range(n+1)]\n",
        "for i in range(m):\n",
        "  x1,x2 = map(int,input().split())\n",
        "  data[x1].append(x2)\n",
        "\n",
        "q = deque()\n",
        "q.append((x,0))\n",
        "while q:\n",
        "  now , dist = q.popleft() \n",
        "  dist = dist+1\n",
        "  if data[now]:\n",
        "    for x2 in data[now]:\n",
        "      if dist > distance[x2]: # 처리된 적이 있는 경우\n",
        "        continue\n",
        "      distance[x2]=dist\n",
        "      q.append((x2,dist))\n",
        "\n",
        "result =[]\n",
        "for i in range(2,n+1):\n",
        "  if distance[i]==k:\n",
        "    result.append(i)\n",
        "if len(result)==0:\n",
        "  print(-1)\n",
        "else:\n",
        "  for i in result:\n",
        "    print(i)\n",
        "    "
      ]
    }
  ]
}