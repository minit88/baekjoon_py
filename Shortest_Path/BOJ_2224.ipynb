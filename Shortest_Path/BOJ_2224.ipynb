{
  "nbformat": 4,
  "nbformat_minor": 0,
  "metadata": {
    "colab": {
      "provenance": [],
      "authorship_tag": "ABX9TyMB5Yjy1bAfoPP+2eMlKzsm",
      "include_colab_link": true
    },
    "kernelspec": {
      "name": "python3",
      "display_name": "Python 3"
    },
    "language_info": {
      "name": "python"
    }
  },
  "cells": [
    {
      "cell_type": "markdown",
      "metadata": {
        "id": "view-in-github",
        "colab_type": "text"
      },
      "source": [
        "<a href=\"https://colab.research.google.com/github/minit88/baekjoon_py/blob/main/Shortest_Path/BOJ_2224.ipynb\" target=\"_parent\"><img src=\"https://colab.research.google.com/assets/colab-badge.svg\" alt=\"Open In Colab\"/></a>"
      ]
    },
    {
      "cell_type": "markdown",
      "source": [
        "# **BOJ 2224**"
      ],
      "metadata": {
        "id": "y7oTArx6Sb69"
      }
    },
    {
      "cell_type": "code",
      "execution_count": 13,
      "metadata": {
        "colab": {
          "base_uri": "https://localhost:8080/"
        },
        "id": "J_EqCgGqV3vU",
        "outputId": "6e48e830-2a94-4c8c-834e-8f37bf5e5c0d"
      },
      "outputs": [
        {
          "output_type": "stream",
          "name": "stdout",
          "text": [
            "1\n",
            "A => b\n",
            "1\n",
            "A  =>  b\n"
          ]
        }
      ],
      "source": [
        "from collections import deque\n",
        "\n",
        "n= int(input())\n",
        "INF = int(1e9)\n",
        "graph = [[INF]*(52) for _ in range(52)]\n",
        "\n",
        "for i in range(n):\n",
        "  x,y = map(str,input().split(' => '))\n",
        "  \n",
        "  if 64<ord(x)<= 90:\n",
        "    x_idx = ord(x)-65\n",
        "  else:\n",
        "    x_idx= ord(x)-71\n",
        "\n",
        "  if 64<ord(y)<= 90:\n",
        "    y_idx = ord(y)-65\n",
        "  else:\n",
        "    y_idx= ord(y)-71\n",
        "\n",
        "  graph[x_idx][y_idx]=1\n",
        "\n",
        "for i in range(52):\n",
        "  for j in range(52):\n",
        "    if i==j:\n",
        "      graph[i][j]=0\n",
        "\n",
        "for k in range(52):\n",
        "  for i in range(52):\n",
        "    for j in range(52):\n",
        "      graph[i][j] = min(graph[i][j],graph[i][k]+graph[k][j])\n",
        "\n",
        "arr=[]\n",
        "for i in range(52):\n",
        "  for j in range(52):\n",
        "    if graph[i][j] == 0 or graph[i][j] == INF:\n",
        "      continue\n",
        "    else:\n",
        "      \n",
        "      if 0<=i<=25 :\n",
        "        arr_x = chr(i+65)\n",
        "      else:\n",
        "        arr_x = chr(i+71)\n",
        "\n",
        "      if 0<=j<=25 :\n",
        "        arr_y = chr(j+65)\n",
        "      else:\n",
        "        arr_y = chr(j+71)\n",
        "\n",
        "      arr.append((arr_x,arr_y))\n",
        "\n",
        "print(len(arr))\n",
        "for x,y in arr:\n",
        "  print(x,'=>',y)\n",
        "\n",
        "\n",
        "\n",
        "  \n",
        "\n"
      ]
    }
  ]
}