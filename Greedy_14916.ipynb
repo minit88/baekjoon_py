{
  "nbformat": 4,
  "nbformat_minor": 0,
  "metadata": {
    "colab": {
      "name": "Greedy_14916.ipynb",
      "provenance": [],
      "authorship_tag": "ABX9TyMQ0pgIc6CrTmE+QX0bKcjh",
      "include_colab_link": true
    },
    "kernelspec": {
      "name": "python3",
      "display_name": "Python 3"
    },
    "language_info": {
      "name": "python"
    }
  },
  "cells": [
    {
      "cell_type": "markdown",
      "metadata": {
        "id": "view-in-github",
        "colab_type": "text"
      },
      "source": [
        "<a href=\"https://colab.research.google.com/github/minit88/back_test_py/blob/main/Greedy_14916.ipynb\" target=\"_parent\"><img src=\"https://colab.research.google.com/assets/colab-badge.svg\" alt=\"Open In Colab\"/></a>"
      ]
    },
    {
      "cell_type": "code",
      "execution_count": 8,
      "metadata": {
        "colab": {
          "base_uri": "https://localhost:8080/"
        },
        "id": "O9Ah8J3d7MvY",
        "outputId": "43399c60-1e53-449e-9b02-1e58fa2dd27c"
      },
      "outputs": [
        {
          "output_type": "stream",
          "name": "stdout",
          "text": [
            "14\n",
            "4\n"
          ]
        }
      ],
      "source": [
        "#baekjoon 14916\n",
        "\n",
        "data = int(input())\n",
        "result5=data//5 \n",
        "result=int(1e9)\n",
        "while result5>=0:\n",
        "  result2= (data - result5*5) //2\n",
        "  if result2*2+result5*5 == data:\n",
        "    result = min(result,result2+result5)\n",
        "  result5-=1\n",
        "if result == int(1e9):\n",
        "  result=-1\n",
        "print(result)"
      ]
    }
  ]
}