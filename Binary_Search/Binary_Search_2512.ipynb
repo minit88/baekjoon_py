{
  "nbformat": 4,
  "nbformat_minor": 0,
  "metadata": {
    "colab": {
      "provenance": [],
      "authorship_tag": "ABX9TyO7KLdE7Rn1wRrz/A/KKiq/",
      "include_colab_link": true
    },
    "kernelspec": {
      "name": "python3",
      "display_name": "Python 3"
    },
    "language_info": {
      "name": "python"
    }
  },
  "cells": [
    {
      "cell_type": "markdown",
      "metadata": {
        "id": "view-in-github",
        "colab_type": "text"
      },
      "source": [
        "<a href=\"https://colab.research.google.com/github/minit88/baekjoon_py/blob/main/Binary_Search/Binary_Search_2512.ipynb\" target=\"_parent\"><img src=\"https://colab.research.google.com/assets/colab-badge.svg\" alt=\"Open In Colab\"/></a>"
      ]
    },
    {
      "cell_type": "code",
      "execution_count": null,
      "metadata": {
        "id": "nTv_2OfmcQDl"
      },
      "outputs": [],
      "source": [
        "# 2512\n",
        "\n",
        "n=int(input())\n",
        "data= list (map(int,input().split()))\n",
        "target =int(input())\n",
        "\n",
        "data.sort()\n",
        "left = 1 # 정수 조건은 1이상\n",
        "right = data[-1]\n",
        "result = -int(1e9)\n",
        "\n",
        "#이분탐색 실행\n",
        "while left<=right:\n",
        "  count=0\n",
        "  mid = (left+right)//2\n",
        "  for i in data:\n",
        "    if i>=mid: # 현재 예산액을 넘는 경우\n",
        "      count += mid # 현재 예산액을 더함\n",
        "    elif i<mid: # 현재 예산액보다 낮은 경우\n",
        "      count += i # 예산요청액을 더함\n",
        "  if count <=target: # 총액이 타켓보다 낮은 경우에만\n",
        "    result  = max(result,mid) # 최적의 조건일 때 예산액 갱신\n",
        "    left = mid+1\n",
        "  else:\n",
        "    right = mid-1\n",
        "\n",
        "print(result)\n",
        "\n",
        "\n"
      ]
    }
  ]
}