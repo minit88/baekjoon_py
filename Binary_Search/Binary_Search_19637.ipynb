{
  "nbformat": 4,
  "nbformat_minor": 0,
  "metadata": {
    "colab": {
      "provenance": [],
      "authorship_tag": "ABX9TyObxQXaxpFVy07lon8fKM9G",
      "include_colab_link": true
    },
    "kernelspec": {
      "name": "python3",
      "display_name": "Python 3"
    },
    "language_info": {
      "name": "python"
    }
  },
  "cells": [
    {
      "cell_type": "markdown",
      "metadata": {
        "id": "view-in-github",
        "colab_type": "text"
      },
      "source": [
        "<a href=\"https://colab.research.google.com/github/minit88/baekjoon_py/blob/main/Binary_Search/Binary_Search_19637.ipynb\" target=\"_parent\"><img src=\"https://colab.research.google.com/assets/colab-badge.svg\" alt=\"Open In Colab\"/></a>"
      ]
    },
    {
      "cell_type": "code",
      "execution_count": 2,
      "metadata": {
        "colab": {
          "base_uri": "https://localhost:8080/"
        },
        "id": "FfR4EzuBgYkt",
        "outputId": "a7000944-3f00-45d0-dc7f-d2ceb65935a0"
      },
      "outputs": [
        {
          "output_type": "stream",
          "name": "stdout",
          "text": [
            "3 5\n",
            "B 100\n",
            "A 100\n",
            "C 1000\n",
            "99\n",
            "100\n",
            "101\n",
            "500\n",
            "1000\n",
            "B\n",
            "B\n",
            "C\n",
            "C\n",
            "C\n"
          ]
        }
      ],
      "source": [
        "# 19637\n",
        "\n",
        "import bisect\n",
        "n,m = map(int,input().split())\n",
        "data= [] # 범위를 담을 리스트\n",
        "data_2 = [] # 칭호명을 담을 리스트\n",
        "result= [] # 캐릭터에 배정된 칭호를 담을 리스트\n",
        "\n",
        "for i in range(n):\n",
        "  a,b = map(str,input().split())\n",
        "  data.append(int(b)) # 범위,문자 저장\n",
        "  data_2.append(a)\n",
        "\n",
        "for i in range(m):\n",
        "  character = int(input())\n",
        "  character_idx = bisect.bisect_left(data,character)\n",
        "  result.append(data_2[character_idx])\n",
        "\n",
        "for i in result:\n",
        "  print(i)\n",
        "\n"
      ]
    }
  ]
}