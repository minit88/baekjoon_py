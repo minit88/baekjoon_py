{
  "nbformat": 4,
  "nbformat_minor": 0,
  "metadata": {
    "colab": {
      "provenance": [],
      "authorship_tag": "ABX9TyNuiFav2XUbWoRxF3ne47U4",
      "include_colab_link": true
    },
    "kernelspec": {
      "name": "python3",
      "display_name": "Python 3"
    },
    "language_info": {
      "name": "python"
    }
  },
  "cells": [
    {
      "cell_type": "markdown",
      "metadata": {
        "id": "view-in-github",
        "colab_type": "text"
      },
      "source": [
        "<a href=\"https://colab.research.google.com/github/minit88/baekjoon_py/blob/main/Binary_Search/Binary_Search_11663.ipynb\" target=\"_parent\"><img src=\"https://colab.research.google.com/assets/colab-badge.svg\" alt=\"Open In Colab\"/></a>"
      ]
    },
    {
      "cell_type": "code",
      "execution_count": null,
      "metadata": {
        "id": "ZJvj7ZHKn7Jk"
      },
      "outputs": [],
      "source": [
        "# 11663\n",
        "import bisect\n",
        "\n",
        "n,m = map(int,input().split())\n",
        "data = list(map(int,input().split()))\n",
        "data.sort()\n",
        "result =[]\n",
        "for i in range(m):\n",
        "  x,y = map(int,input().split())\n",
        "  result.append(bisect.bisect_right(data,y)-bisect.bisect_left(data,x))\n",
        "for i in result:\n",
        "  print(i)"
      ]
    }
  ]
}