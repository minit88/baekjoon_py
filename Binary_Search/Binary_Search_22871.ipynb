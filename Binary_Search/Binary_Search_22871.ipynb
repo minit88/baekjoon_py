{
  "nbformat": 4,
  "nbformat_minor": 0,
  "metadata": {
    "colab": {
      "provenance": [],
      "authorship_tag": "ABX9TyPgGHCMuHkcdHwliBrNbvC1",
      "include_colab_link": true
    },
    "kernelspec": {
      "name": "python3",
      "display_name": "Python 3"
    },
    "language_info": {
      "name": "python"
    }
  },
  "cells": [
    {
      "cell_type": "markdown",
      "metadata": {
        "id": "view-in-github",
        "colab_type": "text"
      },
      "source": [
        "<a href=\"https://colab.research.google.com/github/minit88/baekjoon_py/blob/main/Binary_Search/Binary_Search_22871.ipynb\" target=\"_parent\"><img src=\"https://colab.research.google.com/assets/colab-badge.svg\" alt=\"Open In Colab\"/></a>"
      ]
    },
    {
      "cell_type": "code",
      "execution_count": null,
      "metadata": {
        "id": "DHdEZIeFc_A6"
      },
      "outputs": [],
      "source": [
        "n=int(input())\n",
        "INF = int(1e9)\n",
        "data = list(map(int,input().split()))\n",
        "result = -int(1e9)\n",
        "dp = [0]+[INF]*(n-1)\n",
        "\n",
        "for i in range(1,n):\n",
        "  for j in range(0,i):\n",
        "    power = max((abs(data[i]-data[j])+1)*(i-j),dp[j])\n",
        "    dp[i] = min(power,dp[i])\n",
        "\n",
        "\n",
        "print(dp[-1])  "
      ]
    }
  ]
}