{
  "nbformat": 4,
  "nbformat_minor": 0,
  "metadata": {
    "colab": {
      "provenance": [],
      "authorship_tag": "ABX9TyPbBMdoXQk8TD/QbGBnu6MX",
      "include_colab_link": true
    },
    "kernelspec": {
      "name": "python3",
      "display_name": "Python 3"
    },
    "language_info": {
      "name": "python"
    }
  },
  "cells": [
    {
      "cell_type": "markdown",
      "metadata": {
        "id": "view-in-github",
        "colab_type": "text"
      },
      "source": [
        "<a href=\"https://colab.research.google.com/github/minit88/baekjoon_py/blob/main/Binary_Search/Binary_Search_1654.ipynb\" target=\"_parent\"><img src=\"https://colab.research.google.com/assets/colab-badge.svg\" alt=\"Open In Colab\"/></a>"
      ]
    },
    {
      "cell_type": "code",
      "execution_count": null,
      "metadata": {
        "id": "0KzC7lfWSqEo"
      },
      "outputs": [],
      "source": [
        "# 1654\n",
        "n,m = map(int,input().split())\n",
        "data =[]\n",
        "for i in range(n):\n",
        "  data.append(int(input()))\n",
        "data.sort()\n",
        "left = 1 # 랜선길이의 범위는 자연수\n",
        "right = data[-1]\n",
        "result=-int(1e9) # 랜선의 최대 길이를 담을 변수\n",
        "\n",
        "while left<=right:\n",
        "  count =0\n",
        "  mid= (left+right)//2\n",
        "  \n",
        "  # 각 랜선을 비교\n",
        "  for i in data:\n",
        "    if i>=mid:\n",
        "      count += (i//mid)\n",
        "  # 최대 길이 조건 만족 여부    \n",
        "  if count >= m:\n",
        "    result = max(result,mid) # 최적의 조건일 때 랜선길이 갱신\n",
        "    left = mid+1 # 길이를 더 늘림\n",
        "  elif count<m:\n",
        "    right = mid-1 # 길이를 더 줄임\n",
        "print(result)\n"
      ]
    }
  ]
}