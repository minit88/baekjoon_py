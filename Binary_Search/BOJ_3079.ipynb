{
  "nbformat": 4,
  "nbformat_minor": 0,
  "metadata": {
    "colab": {
      "provenance": [],
      "authorship_tag": "ABX9TyOVyjn0Y6BB1JseIRs9+M4w"
    },
    "kernelspec": {
      "name": "python3",
      "display_name": "Python 3"
    },
    "language_info": {
      "name": "python"
    }
  },
  "cells": [
    {
      "cell_type": "code",
      "execution_count": 5,
      "metadata": {
        "colab": {
          "base_uri": "https://localhost:8080/"
        },
        "id": "fTm7jDMIYAVE",
        "outputId": "6fa0b052-2686-4066-9b60-d8bfa98f5a24"
      },
      "outputs": [
        {
          "output_type": "stream",
          "name": "stdout",
          "text": [
            "2 6\n",
            "7\n",
            "10\n",
            "28\n"
          ]
        }
      ],
      "source": [
        "n,m = map(int,input().split())\n",
        "time =[]\n",
        "for i in range(n):\n",
        "  x = int(input())\n",
        "  time.append(x)\n",
        "\n",
        "end = min(time)*m # 최대 시간\n",
        "start = 0\n",
        "result = 0\n",
        "\n",
        "while start<=end:\n",
        "  quotient=0\n",
        "  mid = (start+end)//2\n",
        "  for t in time:\n",
        "    quotient += mid//t\n",
        "  \n",
        "  if quotient >= m: # 몫의 합들이 사람의 수 보다 크면 end = mid-1 (폭을 줄임)\n",
        "    end=mid-1\n",
        "    result = mid\n",
        "  else:             # 목의 합들이 사람의 수 보다 작으면 값을 키움 \n",
        "    start=mid+1\n",
        "\n",
        "print(result)"
      ]
    }
  ]
}