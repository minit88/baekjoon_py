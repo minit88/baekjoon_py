{
  "nbformat": 4,
  "nbformat_minor": 0,
  "metadata": {
    "colab": {
      "provenance": [],
      "authorship_tag": "ABX9TyPmVetD/+dw3KCI9FxRtGCT",
      "include_colab_link": true
    },
    "kernelspec": {
      "name": "python3",
      "display_name": "Python 3"
    },
    "language_info": {
      "name": "python"
    }
  },
  "cells": [
    {
      "cell_type": "markdown",
      "metadata": {
        "id": "view-in-github",
        "colab_type": "text"
      },
      "source": [
        "<a href=\"https://colab.research.google.com/github/minit88/baekjoon_py/blob/main/Binary_Search/Binary_Search.ipynb\" target=\"_parent\"><img src=\"https://colab.research.google.com/assets/colab-badge.svg\" alt=\"Open In Colab\"/></a>"
      ]
    },
    {
      "cell_type": "code",
      "execution_count": 5,
      "metadata": {
        "colab": {
          "base_uri": "https://localhost:8080/"
        },
        "id": "0M-2cz_8JmQt",
        "outputId": "3b761b2b-c2f3-47bd-e166-89f230849f0b"
      },
      "outputs": [
        {
          "output_type": "stream",
          "name": "stdout",
          "text": [
            "5 20\n",
            "4 42 40 26 46\n",
            "36\n"
          ]
        }
      ],
      "source": [
        "# 2805\n",
        "\n",
        "n,m = map(int,input().split())\n",
        "data =list(map(int,input().split()))\n",
        "data.sort()\n",
        "\n",
        "left = 0\n",
        "right = data[-1]\n",
        "final_count=-int(1e9)\n",
        "final_result = -int(1e9) # 결과값을 저장\n",
        "\n",
        "# 이진탐색 실행\n",
        "while left <= right:\n",
        "  result = 0\n",
        "  mid = (left+right)//2\n",
        "  for i in data:\n",
        "    if i>mid:\n",
        "      result += abs(i -mid)\n",
        "  if result>=m:\n",
        "    final_count = max(final_count,mid)\n",
        "    left=mid+1 # 더 많이 자름\n",
        "  elif result<m :\n",
        "    right=mid-1\n",
        "print(final_count)\n",
        "\n",
        "    \n",
        "    "
      ]
    }
  ]
}