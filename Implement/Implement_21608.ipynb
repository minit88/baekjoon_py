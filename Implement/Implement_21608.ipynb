{
  "nbformat": 4,
  "nbformat_minor": 0,
  "metadata": {
    "colab": {
      "name": "Implement_21608.ipynb",
      "provenance": [],
      "authorship_tag": "ABX9TyNrG+7iEj1SiuTuCJGORhuW",
      "include_colab_link": true
    },
    "kernelspec": {
      "name": "python3",
      "display_name": "Python 3"
    },
    "language_info": {
      "name": "python"
    }
  },
  "cells": [
    {
      "cell_type": "markdown",
      "metadata": {
        "id": "view-in-github",
        "colab_type": "text"
      },
      "source": [
        "<a href=\"https://colab.research.google.com/github/minit88/baekjoon_py/blob/main/Implement/Implement_21608.ipynb\" target=\"_parent\"><img src=\"https://colab.research.google.com/assets/colab-badge.svg\" alt=\"Open In Colab\"/></a>"
      ]
    },
    {
      "cell_type": "code",
      "execution_count": 5,
      "metadata": {
        "colab": {
          "base_uri": "https://localhost:8080/"
        },
        "id": "ElL1QislgFFe",
        "outputId": "42ae35c8-41ab-4e69-c588-85939a4e4907"
      },
      "outputs": [
        {
          "output_type": "stream",
          "name": "stdout",
          "text": [
            "3\n",
            "4 2 5 1 7\n",
            "2 1 9 4 5\n",
            "5 8 1 4 3\n",
            "1 2 9 3 4\n",
            "7 2 3 4 8\n",
            "9 8 4 5 7\n",
            "6 5 2 3 4\n",
            "8 4 9 2 1\n",
            "3 9 2 1 4\n",
            "10 1 10 \n",
            "1 1000 10 \n",
            "10 10 1 \n",
            "[6, 2, 8]\n",
            "[5, 4, 1]\n",
            "[9, 7, 3]\n"
          ]
        }
      ],
      "source": [
        "# 21608\n",
        "n=int(input())\n",
        "data = [[] for _ in range(401)]# 각 학생의 좋아하는 학생의 번호\n",
        "students=[]\n",
        "for i in range((n)**2):\n",
        "  x1,x2,x3,x4,x5 = map(int,input().split())\n",
        "  for k in x2,x3,x4,x5:  \n",
        "    data[x1].append(k)\n",
        "  students.append(x1)\n",
        "\n",
        "dx = [-1,0,1,0]\n",
        "dy = [0,1,0,-1]\n",
        "\n",
        "array = [[0]*(n)for _ in range(n)] # NxN 좌석 배치도\n",
        "\n",
        "def condition_1(student):# 조건 1번\n",
        "  max_count = -int(1e9)\n",
        "  result = []\n",
        "  final_result=[]\n",
        "  # 비어있는 칸일 경우 result에 추가\n",
        "  for i in range(n):\n",
        "    for j in range(n):\n",
        "      if array[i][j] ==0: # 현재 자리가 비어 있으면\n",
        "        result.append((i,j))\n",
        "  #비어 있는 칸 중에서 좋아하는 학생이 인접한 칸에 가장 많은 칸으로 자리 정함\n",
        "  for x,y in result:\n",
        "    count=0\n",
        "    for i in range(4):\n",
        "      nx = x+dx[i]\n",
        "      ny = y+dy[i]\n",
        "      if 0<=nx<n and 0<=ny<n:\n",
        "        if array[nx][ny] in data[student]:\n",
        "          count+=1\n",
        "    if count==max_count: # 인접한 좋아하는 학생의 수가 같은 경우\n",
        "      final_result.append((x,y))\n",
        "    elif count> max_count: # 인접한 좋아하는 학생의 수가 이전 것들의 보다 큰 경우\n",
        "      final_result.clear()\n",
        "      final_result.append((x,y))\n",
        "      max_count = count\n",
        "  if len(final_result) == 0:\n",
        "    return condition_2(result,student)# 빈칸이며 , 인접한 학생이 없을 경우\n",
        "  return condition_2(final_result,student) # 빈칸이며 , 인접한 학생의 수가 가장 많거나 같은 경우\n",
        "\n",
        "def condition_2(result,student):\n",
        "  if len(result)==1:\n",
        "    return condition_3(result,student)\n",
        "  else:\n",
        "    max_count = -int(1e9)\n",
        "    final_result=[]\n",
        "    for x,y in result:\n",
        "      count=0\n",
        "      for i in range(4):\n",
        "        nx = x+dx[i]\n",
        "        ny = y+dy[i]\n",
        "        if 0<=nx<n and 0<=ny<n:\n",
        "          if array[nx][ny]==0: # 인접한 칸이 비어있는 경우\n",
        "            count+=1\n",
        "      if count == max_count:\n",
        "        final_result.append((x,y))\n",
        "      elif count > max_count:\n",
        "        final_result.clear()\n",
        "        final_result.append((x,y))\n",
        "        max_count=count\n",
        "    if len(final_result) ==  0:\n",
        "      return condition_3(result,student)\n",
        "    return condition_3(final_result,student)\n",
        "\n",
        "def condition_3(result,student):\n",
        "  if len(result)==1:\n",
        "    x,y = result[0]\n",
        "    array[x][y]=student\n",
        "  else:\n",
        "    result.sort(key= lambda x: (x[0],x[1]))\n",
        "    x,y = result[0]\n",
        "    array[x][y]=student\n",
        "\n",
        "for i in students:\n",
        "  condition_1(i)\n",
        "\n",
        "result =0\n",
        "\n",
        "for i in range(n):\n",
        "  for j in range(n):\n",
        "    count=0\n",
        "    student = array[i][j]\n",
        "    for k in range(4):\n",
        "      nx = i+dx[k]\n",
        "      ny = j+dy[k]\n",
        "      if 0<=nx<n and 0<=ny<n:\n",
        "        for st in data[student]:\n",
        "          if array[nx][ny] == st:\n",
        "            count+=1\n",
        "    if count>0:\n",
        "      result+=(10**(count-1))\n",
        "\n",
        "print(result)\n",
        "\n",
        "\n",
        "\n"
      ]
    }
  ]
}