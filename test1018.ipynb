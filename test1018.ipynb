{
  "nbformat": 4,
  "nbformat_minor": 0,
  "metadata": {
    "colab": {
      "name": "Untitled17.ipynb",
      "provenance": [],
      "authorship_tag": "ABX9TyPLLrgqZ0pfX5YTz1cB8mWr",
      "include_colab_link": true
    },
    "kernelspec": {
      "name": "python3",
      "display_name": "Python 3"
    },
    "language_info": {
      "name": "python"
    }
  },
  "cells": [
    {
      "cell_type": "markdown",
      "metadata": {
        "id": "view-in-github",
        "colab_type": "text"
      },
      "source": [
        "<a href=\"https://colab.research.google.com/github/minit88/minit88/blob/main/test1018.ipynb\" target=\"_parent\"><img src=\"https://colab.research.google.com/assets/colab-badge.svg\" alt=\"Open In Colab\"/></a>"
      ]
    },
    {
      "cell_type": "code",
      "execution_count": 11,
      "metadata": {
        "colab": {
          "base_uri": "https://localhost:8080/"
        },
        "id": "APouo8105H67",
        "outputId": "eb4f7bad-64e2-4e6b-addf-c5b24ef28196"
      },
      "outputs": [
        {
          "output_type": "stream",
          "name": "stdout",
          "text": [
            "3 3\n",
            "123\n",
            "321\n",
            "123\n",
            "1\n",
            "\n",
            "2\n",
            "\n",
            "3\n",
            "\n",
            "3\n",
            "\n",
            "2\n",
            "\n",
            "1\n",
            "\n",
            "1\n",
            "\n",
            "2\n",
            "\n",
            "3\n",
            "\n",
            "[[], ['1', '2', '3'], ['3', '2', '1'], ['1', '2', '3']]\n"
          ]
        }
      ],
      "source": [
        "N, M = map(int, input().split())\n",
        "original = []\n",
        "count = []\n",
        "\n",
        "for _ in range(N):\n",
        "    original.append(input())\n",
        "\n",
        "for a in range(N-7):\n",
        "    for b in range(M-7):\n",
        "        index1 = 0\n",
        "        index2 = 0\n",
        "        for i in range(a, a+8):\n",
        "            for j in range(b, b+8):\n",
        "                if (i+j) % 2 == 0:\n",
        "                    if original[i][j] != 'W':\n",
        "                        index1 += 1\n",
        "                    if original[i][j] != 'B':\n",
        "                        index2 += 1\n",
        "                else:\n",
        "                    if original[i][j] != 'B':\n",
        "                        index1 += 1\n",
        "                    if original[i][j] != 'W':\n",
        "                        index2 += 1\n",
        "        count.append(min(index1, index2))\n",
        "\n",
        "print(min(count))\n",
        "\n"
      ]
    }
  ]
}